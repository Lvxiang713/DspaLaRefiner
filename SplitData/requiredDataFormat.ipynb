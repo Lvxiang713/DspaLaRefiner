{
 "cells": [
  {
   "cell_type": "code",
   "execution_count": 1,
   "id": "7da4b48f-d4ec-45af-9d1b-f1955a715cc7",
   "metadata": {},
   "outputs": [],
   "source": [
    "import numpy as np\n",
    "import torch\n",
    "import re, copy, os, chardet, time\n",
    "import pickle\n",
    "import shutil\n",
    "import dataProcess"
   ]
  },
  {
   "cell_type": "markdown",
   "id": "1bcb5dd0-aa1d-4357-9af9-8d2dc75fd8c9",
   "metadata": {},
   "source": [
    "# Data format\n",
    "## If you wish to train on your own dataset, please preprocess your data into the following format to ensure the code runs smoothly！"
   ]
  },
  {
   "cell_type": "code",
   "execution_count": 14,
   "id": "12591800-c48c-46cb-ba11-c71f5e548ba1",
   "metadata": {},
   "outputs": [
    {
     "name": "stdout",
     "output_type": "stream",
     "text": [
      "<dataProcess.DataSetWrapper object at 0x000001487D616280>\n"
     ]
    }
   ],
   "source": [
    "with open('./SplitData/data_hospital_01_0.pt','rb') as FOUT:\n",
    "    tmpDataSet = pickle.load(FOUT)\n",
    "trainDataSet = tmpDataSet[0]\n",
    "valDataSet = tmpDataSet[1]\n",
    "testDataSet = tmpDataSet[2]\n",
    "print(trainDataSet)"
   ]
  },
  {
   "cell_type": "markdown",
   "id": "985adcce-c23c-4c05-bdb9-c996cc735059",
   "metadata": {},
   "source": [
    "Training, Validation, Test sets are stored in data_hospital_n_m.pt"
   ]
  },
  {
   "cell_type": "code",
   "execution_count": 25,
   "id": "078bec2d-0742-49b7-93ee-7f1f8194df0d",
   "metadata": {},
   "outputs": [],
   "source": [
    "tmpData = trainDataSet[4800]"
   ]
  },
  {
   "cell_type": "code",
   "execution_count": 26,
   "id": "5833b455-0401-421e-a051-7b35ca052660",
   "metadata": {},
   "outputs": [
    {
     "name": "stdout",
     "output_type": "stream",
     "text": [
      "x0: tensor([3.3900e+01, 3.0400e+01, 9.0000e-01, 1.0000e-02, 2.0000e-01, 0.0000e+00,\n",
      "        0.0000e+00, 1.5000e-01, 2.7000e+00, 1.1520e+01, 0.0000e+00, 3.3100e-01,\n",
      "        8.0000e-01, 1.0000e+02, 2.1000e+00, 1.9400e+00, 3.5200e+01, 2.1200e+01,\n",
      "        3.0200e+02, 7.0100e+01, 3.7000e-01, 6.7000e+00, 9.8000e+00, 3.0400e+00,\n",
      "        5.5200e+01, 3.2000e-01, 1.1100e+01, 3.2400e+02, 4.7200e+00, 0.0000e+00,\n",
      "        1.6400e+01, 3.3600e+00, 2.0300e+00, 1.0200e+00, 6.0000e+00, 5.5100e+00,\n",
      "        5.3000e+01, 1.0000e+00, 6.4800e+01], dtype=torch.float64)\n",
      "mask0: tensor([False, False, False, False, False,  True, False, False, False, False,\n",
      "        False, False, False, False, False, False, False, False, False, False,\n",
      "        False, False, False, False, False, False, False, False, False, False,\n",
      "        False, False, False, False, False, False, False, False, False])\n",
      "y0: tensor([0., 1.])\n"
     ]
    }
   ],
   "source": [
    "print('x0:',tmpData[0])\n",
    "print('mask0:',tmpData[1])\n",
    "print('y0:',tmpData[2])"
   ]
  },
  {
   "cell_type": "markdown",
   "id": "40f555e4-1163-4f50-9e21-970b81a43f15",
   "metadata": {},
   "source": [
    "'x' represents the feature values. 'mask' indicates whether the corresponding features are missing, and if they are missing, it is set to 'True' and the corresponding 'x' value is set to '0'. 'y' represents the data labels.\""
   ]
  },
  {
   "cell_type": "markdown",
   "id": "7dffd86a-ca1f-470e-8f8e-61c96da77f81",
   "metadata": {},
   "source": [
    "### \"Here is the required data format for training, summarized briefly: it involves processing Training, Validation, and Test sets into three 'torch.utils.data.Dataset' objects. Each data entry within these datasets contains its feature values, a mask matrix for missing values, and its labels. Finally, all this information is saved in a binary file, allowing you to quickly use your own data for model training。"
   ]
  }
 ],
 "metadata": {
  "kernelspec": {
   "display_name": "Python 3 (ipykernel)",
   "language": "python",
   "name": "python3"
  },
  "language_info": {
   "codemirror_mode": {
    "name": "ipython",
    "version": 3
   },
   "file_extension": ".py",
   "mimetype": "text/x-python",
   "name": "python",
   "nbconvert_exporter": "python",
   "pygments_lexer": "ipython3",
   "version": "3.9.16"
  }
 },
 "nbformat": 4,
 "nbformat_minor": 5
}
